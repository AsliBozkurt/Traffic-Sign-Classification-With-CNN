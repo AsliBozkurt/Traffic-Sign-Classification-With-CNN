{
  "cells": [
    {
      "cell_type": "code",
      "execution_count": null,
      "metadata": {
        "colab": {
          "base_uri": "https://localhost:8080/"
        },
        "id": "cNefso-dldMM",
        "outputId": "53e2b424-6335-454c-ae27-ef5fbb6cf461"
      },
      "outputs": [
        {
          "name": "stdout",
          "output_type": "stream",
          "text": [
            "Mounted at /content/drive\n"
          ]
        }
      ],
      "source": [
        "# drive dosya erişim\n",
        "from google.colab import drive\n",
        "drive.mount('/content/drive')"
      ]
    },
    {
      "cell_type": "code",
      "execution_count": null,
      "metadata": {
        "colab": {
          "base_uri": "https://localhost:8080/"
        },
        "id": "TJLMmQBllixU",
        "outputId": "c781d4ea-6fc2-4daa-bfdc-df3971d76451"
      },
      "outputs": [
        {
          "name": "stdout",
          "output_type": "stream",
          "text": [
            "Requirement already satisfied: tensorflow in /usr/local/lib/python3.10/dist-packages (2.15.0)\n",
            "Requirement already satisfied: absl-py>=1.0.0 in /usr/local/lib/python3.10/dist-packages (from tensorflow) (1.4.0)\n",
            "Requirement already satisfied: astunparse>=1.6.0 in /usr/local/lib/python3.10/dist-packages (from tensorflow) (1.6.3)\n",
            "Requirement already satisfied: flatbuffers>=23.5.26 in /usr/local/lib/python3.10/dist-packages (from tensorflow) (24.3.25)\n",
            "Requirement already satisfied: gast!=0.5.0,!=0.5.1,!=0.5.2,>=0.2.1 in /usr/local/lib/python3.10/dist-packages (from tensorflow) (0.5.4)\n",
            "Requirement already satisfied: google-pasta>=0.1.1 in /usr/local/lib/python3.10/dist-packages (from tensorflow) (0.2.0)\n",
            "Requirement already satisfied: h5py>=2.9.0 in /usr/local/lib/python3.10/dist-packages (from tensorflow) (3.9.0)\n",
            "Requirement already satisfied: libclang>=13.0.0 in /usr/local/lib/python3.10/dist-packages (from tensorflow) (18.1.1)\n",
            "Requirement already satisfied: ml-dtypes~=0.2.0 in /usr/local/lib/python3.10/dist-packages (from tensorflow) (0.2.0)\n",
            "Requirement already satisfied: numpy<2.0.0,>=1.23.5 in /usr/local/lib/python3.10/dist-packages (from tensorflow) (1.25.2)\n",
            "Requirement already satisfied: opt-einsum>=2.3.2 in /usr/local/lib/python3.10/dist-packages (from tensorflow) (3.3.0)\n",
            "Requirement already satisfied: packaging in /usr/local/lib/python3.10/dist-packages (from tensorflow) (24.0)\n",
            "Requirement already satisfied: protobuf!=4.21.0,!=4.21.1,!=4.21.2,!=4.21.3,!=4.21.4,!=4.21.5,<5.0.0dev,>=3.20.3 in /usr/local/lib/python3.10/dist-packages (from tensorflow) (3.20.3)\n",
            "Requirement already satisfied: setuptools in /usr/local/lib/python3.10/dist-packages (from tensorflow) (67.7.2)\n",
            "Requirement already satisfied: six>=1.12.0 in /usr/local/lib/python3.10/dist-packages (from tensorflow) (1.16.0)\n",
            "Requirement already satisfied: termcolor>=1.1.0 in /usr/local/lib/python3.10/dist-packages (from tensorflow) (2.4.0)\n",
            "Requirement already satisfied: typing-extensions>=3.6.6 in /usr/local/lib/python3.10/dist-packages (from tensorflow) (4.11.0)\n",
            "Requirement already satisfied: wrapt<1.15,>=1.11.0 in /usr/local/lib/python3.10/dist-packages (from tensorflow) (1.14.1)\n",
            "Requirement already satisfied: tensorflow-io-gcs-filesystem>=0.23.1 in /usr/local/lib/python3.10/dist-packages (from tensorflow) (0.37.0)\n",
            "Requirement already satisfied: grpcio<2.0,>=1.24.3 in /usr/local/lib/python3.10/dist-packages (from tensorflow) (1.63.0)\n",
            "Requirement already satisfied: tensorboard<2.16,>=2.15 in /usr/local/lib/python3.10/dist-packages (from tensorflow) (2.15.2)\n",
            "Requirement already satisfied: tensorflow-estimator<2.16,>=2.15.0 in /usr/local/lib/python3.10/dist-packages (from tensorflow) (2.15.0)\n",
            "Requirement already satisfied: keras<2.16,>=2.15.0 in /usr/local/lib/python3.10/dist-packages (from tensorflow) (2.15.0)\n",
            "Requirement already satisfied: wheel<1.0,>=0.23.0 in /usr/local/lib/python3.10/dist-packages (from astunparse>=1.6.0->tensorflow) (0.43.0)\n",
            "Requirement already satisfied: google-auth<3,>=1.6.3 in /usr/local/lib/python3.10/dist-packages (from tensorboard<2.16,>=2.15->tensorflow) (2.27.0)\n",
            "Requirement already satisfied: google-auth-oauthlib<2,>=0.5 in /usr/local/lib/python3.10/dist-packages (from tensorboard<2.16,>=2.15->tensorflow) (1.2.0)\n",
            "Requirement already satisfied: markdown>=2.6.8 in /usr/local/lib/python3.10/dist-packages (from tensorboard<2.16,>=2.15->tensorflow) (3.6)\n",
            "Requirement already satisfied: requests<3,>=2.21.0 in /usr/local/lib/python3.10/dist-packages (from tensorboard<2.16,>=2.15->tensorflow) (2.31.0)\n",
            "Requirement already satisfied: tensorboard-data-server<0.8.0,>=0.7.0 in /usr/local/lib/python3.10/dist-packages (from tensorboard<2.16,>=2.15->tensorflow) (0.7.2)\n",
            "Requirement already satisfied: werkzeug>=1.0.1 in /usr/local/lib/python3.10/dist-packages (from tensorboard<2.16,>=2.15->tensorflow) (3.0.2)\n",
            "Requirement already satisfied: cachetools<6.0,>=2.0.0 in /usr/local/lib/python3.10/dist-packages (from google-auth<3,>=1.6.3->tensorboard<2.16,>=2.15->tensorflow) (5.3.3)\n",
            "Requirement already satisfied: pyasn1-modules>=0.2.1 in /usr/local/lib/python3.10/dist-packages (from google-auth<3,>=1.6.3->tensorboard<2.16,>=2.15->tensorflow) (0.4.0)\n",
            "Requirement already satisfied: rsa<5,>=3.1.4 in /usr/local/lib/python3.10/dist-packages (from google-auth<3,>=1.6.3->tensorboard<2.16,>=2.15->tensorflow) (4.9)\n",
            "Requirement already satisfied: requests-oauthlib>=0.7.0 in /usr/local/lib/python3.10/dist-packages (from google-auth-oauthlib<2,>=0.5->tensorboard<2.16,>=2.15->tensorflow) (1.3.1)\n",
            "Requirement already satisfied: charset-normalizer<4,>=2 in /usr/local/lib/python3.10/dist-packages (from requests<3,>=2.21.0->tensorboard<2.16,>=2.15->tensorflow) (3.3.2)\n",
            "Requirement already satisfied: idna<4,>=2.5 in /usr/local/lib/python3.10/dist-packages (from requests<3,>=2.21.0->tensorboard<2.16,>=2.15->tensorflow) (3.7)\n",
            "Requirement already satisfied: urllib3<3,>=1.21.1 in /usr/local/lib/python3.10/dist-packages (from requests<3,>=2.21.0->tensorboard<2.16,>=2.15->tensorflow) (2.0.7)\n",
            "Requirement already satisfied: certifi>=2017.4.17 in /usr/local/lib/python3.10/dist-packages (from requests<3,>=2.21.0->tensorboard<2.16,>=2.15->tensorflow) (2024.2.2)\n",
            "Requirement already satisfied: MarkupSafe>=2.1.1 in /usr/local/lib/python3.10/dist-packages (from werkzeug>=1.0.1->tensorboard<2.16,>=2.15->tensorflow) (2.1.5)\n",
            "Requirement already satisfied: pyasn1<0.7.0,>=0.4.6 in /usr/local/lib/python3.10/dist-packages (from pyasn1-modules>=0.2.1->google-auth<3,>=1.6.3->tensorboard<2.16,>=2.15->tensorflow) (0.6.0)\n",
            "Requirement already satisfied: oauthlib>=3.0.0 in /usr/local/lib/python3.10/dist-packages (from requests-oauthlib>=0.7.0->google-auth-oauthlib<2,>=0.5->tensorboard<2.16,>=2.15->tensorflow) (3.2.2)\n",
            "Requirement already satisfied: keras in /usr/local/lib/python3.10/dist-packages (2.15.0)\n"
          ]
        }
      ],
      "source": [
        "# Kütüphanleri indir\n",
        "#!pip install tensorflow\n",
        "#!pip install keras"
      ]
    },
    {
      "cell_type": "code",
      "execution_count": null,
      "metadata": {
        "id": "y5gRJo0Ol9W8"
      },
      "outputs": [],
      "source": [
        "from tensorflow.keras.preprocessing.image import ImageDataGenerator\n",
        "from keras.models import Sequential\n",
        "from keras.layers import Dense, Dropout, GlobalAveragePooling2D, BatchNormalization\n",
        "from tensorflow.keras.optimizers import Adam\n",
        "from tensorflow.keras.callbacks import ReduceLROnPlateau, ModelCheckpoint\n",
        "from tensorflow.keras.applications import DenseNet121\n",
        "from keras.metrics import Precision, Recall"
      ]
    },
    {
      "cell_type": "code",
      "execution_count": null,
      "metadata": {
        "id": "iUci-Ri7mZoH"
      },
      "outputs": [],
      "source": [
        "# Sınıflandırma\n",
        "precision = Precision()\n",
        "recall = Recall()\n",
        "classes_names = [\n",
        "    \"azami_hiz_60\",\n",
        "    \"azami_hiz_70\",\n",
        "    \"azami_hiz_80\",\n",
        "    \"bisiklet_gecebilir\",\n",
        "    \"bisiklet_yolu\",\n",
        "    \"duraklamak_ve_park_etmek_yasak\",\n",
        "    \"girilmez\",\n",
        "    \"motorlu_tasit_yolu_baslangici\",\n",
        "    \"motorlu_tasit_yolu_sonu\",\n",
        "    \"okul_gecidi\",\n",
        "    \"saga_donus\",\n",
        "    \"saga_donus_yasak\",\n",
        "    \"sesli_ikaz_cihazi_kullanimi_yasak\",\n",
        "    \"u_donusu_yapilir\"\n",
        "]"
      ]
    },
    {
      "cell_type": "code",
      "execution_count": null,
      "metadata": {
        "id": "-afTuvxqmeGh"
      },
      "outputs": [],
      "source": [
        "# Veri setinin yolu\n",
        "train_data_dir = r\"/content/drive/MyDrive/proje-b_dataset/train\"\n",
        "test_data_dir = r\"/content/drive/MyDrive/proje-b_dataset/test\"\n",
        "valid_data_dir = r\"/content/drive/MyDrive/proje-b_dataset/validation\""
      ]
    },
    {
      "cell_type": "code",
      "execution_count": null,
      "metadata": {
        "id": "GfHjJfl9mmTh"
      },
      "outputs": [],
      "source": [
        "# Veri ön işleme ve augmentasyon için ImageDataGenerator kullanma\n",
        "train_datagen = ImageDataGenerator(\n",
        "    rotation_range=20,\n",
        "    rescale=1./255,\n",
        "    shear_range=0.3,\n",
        "    horizontal_flip=True,\n",
        "    fill_mode='nearest',\n",
        "    brightness_range=[0.2, 1.5], # Kontrast ve parlaklık ayarı\n",
        "    width_shift_range=0.15,  # Yatay kaydırma\n",
        "    height_shift_range=0.15,  # Dikey kaydırma\n",
        "    zoom_range=0.1,  # Ölçeklendirme\n",
        "    channel_shift_range=10.0  # Düşük yoğunluklu Gaussian gürültü\n",
        "    )\n",
        "\n",
        "valid_datagen = ImageDataGenerator(rescale=1./255)\n",
        "\n",
        "test_datagen = ImageDataGenerator(rescale=1./255)"
      ]
    },
    {
      "cell_type": "code",
      "execution_count": null,
      "metadata": {
        "colab": {
          "base_uri": "https://localhost:8080/"
        },
        "id": "toMy08vKmntr",
        "outputId": "e3552e62-2488-47dc-c17c-963534d381b5"
      },
      "outputs": [
        {
          "name": "stdout",
          "output_type": "stream",
          "text": [
            "Found 1890 images belonging to 14 classes.\n"
          ]
        }
      ],
      "source": [
        "# Veri setlerini yükleyerek ImageDataGenerator nesneleri olusturma\n",
        "train_generator = train_datagen.flow_from_directory(\n",
        "    train_data_dir,\n",
        "    target_size=(128, 128),\n",
        "    batch_size=64,\n",
        "    class_mode='categorical',\n",
        "    shuffle=True\n",
        ")"
      ]
    },
    {
      "cell_type": "code",
      "execution_count": null,
      "metadata": {
        "colab": {
          "base_uri": "https://localhost:8080/"
        },
        "id": "Lb4ehh1ImwXG",
        "outputId": "80f6491b-ff0f-4af8-e814-3ac1c147daed"
      },
      "outputs": [
        {
          "name": "stdout",
          "output_type": "stream",
          "text": [
            "Found 420 images belonging to 14 classes.\n"
          ]
        }
      ],
      "source": [
        "#valid generator\n",
        "validation_generator = valid_datagen.flow_from_directory(\n",
        "    valid_data_dir,\n",
        "    target_size=(128, 128),\n",
        "    batch_size=64,\n",
        "    class_mode='categorical',\n",
        "    shuffle=True\n",
        ")"
      ]
    },
    {
      "cell_type": "code",
      "execution_count": null,
      "metadata": {
        "colab": {
          "base_uri": "https://localhost:8080/"
        },
        "id": "b8WthJpIm2Y2",
        "outputId": "38876ac5-f0f8-4c9d-833f-517d57182ecb"
      },
      "outputs": [
        {
          "name": "stdout",
          "output_type": "stream",
          "text": [
            "Found 406 images belonging to 14 classes.\n"
          ]
        }
      ],
      "source": [
        "test_generator = test_datagen.flow_from_directory(\n",
        "test_data_dir,\n",
        "target_size=(128, 128),\n",
        "batch_size=64,\n",
        "class_mode='categorical',\n",
        "shuffle=True\n",
        ")\n"
      ]
    },
    {
      "cell_type": "code",
      "execution_count": null,
      "metadata": {
        "colab": {
          "base_uri": "https://localhost:8080/"
        },
        "id": "5rWpdepzm3iT",
        "outputId": "07e38fe5-558d-4e73-eab3-35e28e4a3e3a"
      },
      "outputs": [
        {
          "name": "stdout",
          "output_type": "stream",
          "text": [
            "Model: \"sequential\"\n",
            "_________________________________________________________________\n",
            " Layer (type)                Output Shape              Param #   \n",
            "=================================================================\n",
            " densenet121 (Functional)    (None, 4, 4, 1024)        7037504   \n",
            "                                                                 \n",
            " global_average_pooling2d (  (None, 1024)              0         \n",
            " GlobalAveragePooling2D)                                         \n",
            "                                                                 \n",
            " dense (Dense)               (None, 1024)              1049600   \n",
            "                                                                 \n",
            " batch_normalization (Batch  (None, 1024)              4096      \n",
            " Normalization)                                                  \n",
            "                                                                 \n",
            " dropout (Dropout)           (None, 1024)              0         \n",
            "                                                                 \n",
            " dense_1 (Dense)             (None, 512)               524800    \n",
            "                                                                 \n",
            " batch_normalization_1 (Bat  (None, 512)               2048      \n",
            " chNormalization)                                                \n",
            "                                                                 \n",
            " dropout_1 (Dropout)         (None, 512)               0         \n",
            "                                                                 \n",
            " dense_2 (Dense)             (None, 128)               65664     \n",
            "                                                                 \n",
            " batch_normalization_2 (Bat  (None, 128)               512       \n",
            " chNormalization)                                                \n",
            "                                                                 \n",
            " dropout_2 (Dropout)         (None, 128)               0         \n",
            "                                                                 \n",
            " dense_3 (Dense)             (None, 14)                1806      \n",
            "                                                                 \n",
            "=================================================================\n",
            "Total params: 8686030 (33.13 MB)\n",
            "Trainable params: 1645198 (6.28 MB)\n",
            "Non-trainable params: 7040832 (26.86 MB)\n",
            "_________________________________________________________________\n",
            "None\n"
          ]
        }
      ],
      "source": [
        "#densenet model oluşturma\n",
        "base_model = DenseNet121(weights='imagenet', include_top=False, input_shape=(128, 128, 3))#densenet modelini yukler\n",
        "\n",
        "# Sadece eklenen katmanların eğitilmesini sağlama\n",
        "for layer in base_model.layers:\n",
        "    layer.trainable = False\n",
        "\n",
        "model = Sequential()\n",
        "model.add(base_model)\n",
        "model.add(GlobalAveragePooling2D())\n",
        "model.add(Dense(1024, activation='relu'))\n",
        "model.add(BatchNormalization())\n",
        "model.add(Dropout(0.2))\n",
        "model.add(Dense(512, activation='relu'))\n",
        "model.add(BatchNormalization())\n",
        "model.add(Dropout(0.1))\n",
        "model.add(Dense(128, activation='relu'))\n",
        "model.add(BatchNormalization())\n",
        "model.add(Dropout(0.1))\n",
        "\n",
        "model.add(Dense(len(classes_names), activation=\"softmax\"))#14 sinif oldugu icin len(classes_names) tane noron ekledik\n",
        "print(model.summary())\n"
      ]
    },
    {
      "cell_type": "code",
      "execution_count": null,
      "metadata": {
        "id": "Lq1rtHNBoxBg"
      },
      "outputs": [],
      "source": [
        "# Modeli derleme\n",
        "model.compile(optimizer=Adam(learning_rate=0.005), loss='categorical_crossentropy', metrics=['accuracy', precision, recall])\n",
        "\n",
        "#Learning Rate Scheduler\n",
        "reduce_lr = ReduceLROnPlateau(monitor='val_loss', factor=0.2, patience=3, min_lr=0.00005, verbose=1)#egitim esnasinda ogrenme oranini dinamik olarak ayarlar\n",
        "\n",
        "# Model Checkpoint\n",
        "checkpoint = ModelCheckpoint('best_model_densenet.h5', verbose=1, save_best_only=True, monitor='val_loss')#model egitimi esnasinda en iyi genelleme yapan agirliklari kaydeder\n"
      ]
    },
    {
      "cell_type": "code",
      "execution_count": null,
      "metadata": {
        "colab": {
          "base_uri": "https://localhost:8080/"
        },
        "id": "LkLmuU44oyoy",
        "outputId": "c3dcc61c-cf23-4957-ec26-88eeca691574"
      },
      "outputs": [
        {
          "name": "stdout",
          "output_type": "stream",
          "text": [
            "Epoch 1/100\n",
            "30/30 [==============================] - ETA: 0s - loss: 0.4984 - accuracy: 0.8413 - precision: 0.9013 - recall: 0.7968 \n",
            "Epoch 1: val_loss improved from inf to 2.90602, saving model to best_model_densenet.h5\n"
          ]
        },
        {
          "name": "stderr",
          "output_type": "stream",
          "text": [
            "/usr/local/lib/python3.10/dist-packages/keras/src/engine/training.py:3103: UserWarning: You are saving your model as an HDF5 file via `model.save()`. This file format is considered legacy. We recommend using instead the native Keras format, e.g. `model.save('my_model.keras')`.\n",
            "  saving_api.save_model(\n"
          ]
        },
        {
          "name": "stdout",
          "output_type": "stream",
          "text": [
            "\b\b\b\b\b\b\b\b\b\b\b\b\b\b\b\b\b\b\b\b\b\b\b\b\b\b\b\b\b\b\b\b\b\b\b\b\b\b\b\b\b\b\b\b\b\b\b\b\b\b\b\b\b\b\b\b\b\b\b\b\b\b\b\b\b\b\b\b\b\b\b\b\b\b\b\b\b\b\b\b\b\b\b\b\b\b\b\b\b\b\b\b\b\b\b\b\b\b\b\b\b\b\b\b\b\b\b\b\b\b\b\b\b\b\b\b\b\b\b\r30/30 [==============================] - 807s 26s/step - loss: 0.4984 - accuracy: 0.8413 - precision: 0.9013 - recall: 0.7968 - val_loss: 2.9060 - val_accuracy: 0.5690 - val_precision: 0.5718 - val_recall: 0.5690 - lr: 0.0050\n",
            "Epoch 2/100\n",
            "30/30 [==============================] - ETA: 0s - loss: 0.1320 - accuracy: 0.9524 - precision: 0.9614 - recall: 0.9481\n",
            "Epoch 2: val_loss improved from 2.90602 to 1.17600, saving model to best_model_densenet.h5\n",
            "30/30 [==============================] - 160s 5s/step - loss: 0.1320 - accuracy: 0.9524 - precision: 0.9614 - recall: 0.9481 - val_loss: 1.1760 - val_accuracy: 0.7333 - val_precision: 0.7386 - val_recall: 0.7333 - lr: 0.0050\n",
            "Epoch 3/100\n",
            "30/30 [==============================] - ETA: 0s - loss: 0.1120 - accuracy: 0.9614 - precision: 0.9679 - recall: 0.9561\n",
            "Epoch 3: val_loss improved from 1.17600 to 0.57929, saving model to best_model_densenet.h5\n",
            "30/30 [==============================] - 158s 5s/step - loss: 0.1120 - accuracy: 0.9614 - precision: 0.9679 - recall: 0.9561 - val_loss: 0.5793 - val_accuracy: 0.8476 - val_precision: 0.8523 - val_recall: 0.8381 - lr: 0.0050\n",
            "Epoch 4/100\n",
            "30/30 [==============================] - ETA: 0s - loss: 0.1158 - accuracy: 0.9614 - precision: 0.9649 - recall: 0.9587\n",
            "Epoch 4: val_loss improved from 0.57929 to 0.25167, saving model to best_model_densenet.h5\n",
            "30/30 [==============================] - 159s 5s/step - loss: 0.1158 - accuracy: 0.9614 - precision: 0.9649 - recall: 0.9587 - val_loss: 0.2517 - val_accuracy: 0.9429 - val_precision: 0.9429 - val_recall: 0.9429 - lr: 0.0050\n",
            "Epoch 5/100\n",
            "30/30 [==============================] - ETA: 0s - loss: 0.1034 - accuracy: 0.9646 - precision: 0.9670 - recall: 0.9619\n",
            "Epoch 5: val_loss did not improve from 0.25167\n",
            "30/30 [==============================] - 155s 5s/step - loss: 0.1034 - accuracy: 0.9646 - precision: 0.9670 - recall: 0.9619 - val_loss: 0.3154 - val_accuracy: 0.9238 - val_precision: 0.9322 - val_recall: 0.9167 - lr: 0.0050\n",
            "Epoch 6/100\n",
            "30/30 [==============================] - ETA: 0s - loss: 0.0741 - accuracy: 0.9762 - precision: 0.9783 - recall: 0.9762\n",
            "Epoch 6: val_loss improved from 0.25167 to 0.11393, saving model to best_model_densenet.h5\n",
            "30/30 [==============================] - 158s 5s/step - loss: 0.0741 - accuracy: 0.9762 - precision: 0.9783 - recall: 0.9762 - val_loss: 0.1139 - val_accuracy: 0.9571 - val_precision: 0.9571 - val_recall: 0.9571 - lr: 0.0050\n",
            "Epoch 7/100\n",
            "30/30 [==============================] - ETA: 0s - loss: 0.0926 - accuracy: 0.9614 - precision: 0.9638 - recall: 0.9587\n",
            "Epoch 7: val_loss did not improve from 0.11393\n",
            "30/30 [==============================] - 136s 5s/step - loss: 0.0926 - accuracy: 0.9614 - precision: 0.9638 - recall: 0.9587 - val_loss: 0.1184 - val_accuracy: 0.9619 - val_precision: 0.9619 - val_recall: 0.9619 - lr: 0.0050\n",
            "Epoch 8/100\n",
            "30/30 [==============================] - ETA: 0s - loss: 0.0956 - accuracy: 0.9646 - precision: 0.9660 - recall: 0.9630\n",
            "Epoch 8: val_loss did not improve from 0.11393\n",
            "30/30 [==============================] - 136s 5s/step - loss: 0.0956 - accuracy: 0.9646 - precision: 0.9660 - recall: 0.9630 - val_loss: 0.1916 - val_accuracy: 0.9333 - val_precision: 0.9356 - val_recall: 0.9333 - lr: 0.0050\n",
            "Epoch 9/100\n",
            "30/30 [==============================] - ETA: 0s - loss: 0.0639 - accuracy: 0.9751 - precision: 0.9772 - recall: 0.9746\n",
            "Epoch 9: val_loss improved from 0.11393 to 0.05852, saving model to best_model_densenet.h5\n",
            "30/30 [==============================] - 155s 5s/step - loss: 0.0639 - accuracy: 0.9751 - precision: 0.9772 - recall: 0.9746 - val_loss: 0.0585 - val_accuracy: 0.9762 - val_precision: 0.9809 - val_recall: 0.9762 - lr: 0.0050\n",
            "Epoch 10/100\n",
            "30/30 [==============================] - ETA: 0s - loss: 0.0580 - accuracy: 0.9810 - precision: 0.9820 - recall: 0.9799\n",
            "Epoch 10: val_loss did not improve from 0.05852\n",
            "30/30 [==============================] - 168s 6s/step - loss: 0.0580 - accuracy: 0.9810 - precision: 0.9820 - recall: 0.9799 - val_loss: 0.1755 - val_accuracy: 0.9524 - val_precision: 0.9524 - val_recall: 0.9524 - lr: 0.0050\n",
            "Epoch 11/100\n",
            "30/30 [==============================] - ETA: 0s - loss: 0.0786 - accuracy: 0.9709 - precision: 0.9740 - recall: 0.9704\n",
            "Epoch 11: val_loss did not improve from 0.05852\n",
            "30/30 [==============================] - 139s 5s/step - loss: 0.0786 - accuracy: 0.9709 - precision: 0.9740 - recall: 0.9704 - val_loss: 0.0861 - val_accuracy: 0.9786 - val_precision: 0.9786 - val_recall: 0.9786 - lr: 0.0050\n",
            "Epoch 12/100\n",
            "30/30 [==============================] - ETA: 0s - loss: 0.0725 - accuracy: 0.9767 - precision: 0.9772 - recall: 0.9751\n",
            "Epoch 12: ReduceLROnPlateau reducing learning rate to 0.0009999999776482583.\n",
            "\n",
            "Epoch 12: val_loss did not improve from 0.05852\n",
            "30/30 [==============================] - 139s 5s/step - loss: 0.0725 - accuracy: 0.9767 - precision: 0.9772 - recall: 0.9751 - val_loss: 0.0951 - val_accuracy: 0.9786 - val_precision: 0.9785 - val_recall: 0.9738 - lr: 0.0050\n",
            "Epoch 13/100\n",
            "30/30 [==============================] - ETA: 0s - loss: 0.0602 - accuracy: 0.9788 - precision: 0.9819 - recall: 0.9767\n",
            "Epoch 13: val_loss improved from 0.05852 to 0.03240, saving model to best_model_densenet.h5\n",
            "30/30 [==============================] - 156s 5s/step - loss: 0.0602 - accuracy: 0.9788 - precision: 0.9819 - recall: 0.9767 - val_loss: 0.0324 - val_accuracy: 0.9881 - val_precision: 0.9881 - val_recall: 0.9881 - lr: 1.0000e-03\n",
            "Epoch 14/100\n",
            "30/30 [==============================] - ETA: 0s - loss: 0.0370 - accuracy: 0.9847 - precision: 0.9846 - recall: 0.9836\n",
            "Epoch 14: val_loss improved from 0.03240 to 0.02961, saving model to best_model_densenet.h5\n",
            "30/30 [==============================] - 156s 5s/step - loss: 0.0370 - accuracy: 0.9847 - precision: 0.9846 - recall: 0.9836 - val_loss: 0.0296 - val_accuracy: 0.9881 - val_precision: 0.9881 - val_recall: 0.9881 - lr: 1.0000e-03\n",
            "Epoch 15/100\n",
            "30/30 [==============================] - ETA: 0s - loss: 0.0370 - accuracy: 0.9852 - precision: 0.9857 - recall: 0.9852\n",
            "Epoch 15: val_loss did not improve from 0.02961\n",
            "30/30 [==============================] - 142s 5s/step - loss: 0.0370 - accuracy: 0.9852 - precision: 0.9857 - recall: 0.9852 - val_loss: 0.0341 - val_accuracy: 0.9833 - val_precision: 0.9833 - val_recall: 0.9833 - lr: 1.0000e-03\n",
            "Epoch 16/100\n",
            "30/30 [==============================] - ETA: 0s - loss: 0.0273 - accuracy: 0.9921 - precision: 0.9936 - recall: 0.9915\n",
            "Epoch 16: val_loss improved from 0.02961 to 0.02829, saving model to best_model_densenet.h5\n",
            "30/30 [==============================] - 154s 5s/step - loss: 0.0273 - accuracy: 0.9921 - precision: 0.9936 - recall: 0.9915 - val_loss: 0.0283 - val_accuracy: 0.9857 - val_precision: 0.9857 - val_recall: 0.9857 - lr: 1.0000e-03\n",
            "Epoch 17/100\n",
            "30/30 [==============================] - ETA: 0s - loss: 0.0282 - accuracy: 0.9905 - precision: 0.9915 - recall: 0.9899\n",
            "Epoch 17: val_loss did not improve from 0.02829\n",
            "30/30 [==============================] - 140s 5s/step - loss: 0.0282 - accuracy: 0.9905 - precision: 0.9915 - recall: 0.9899 - val_loss: 0.0379 - val_accuracy: 0.9833 - val_precision: 0.9833 - val_recall: 0.9833 - lr: 1.0000e-03\n",
            "Epoch 18/100\n",
            "30/30 [==============================] - ETA: 0s - loss: 0.0223 - accuracy: 0.9937 - precision: 0.9936 - recall: 0.9926\n",
            "Epoch 18: val_loss improved from 0.02829 to 0.02491, saving model to best_model_densenet.h5\n",
            "30/30 [==============================] - 138s 5s/step - loss: 0.0223 - accuracy: 0.9937 - precision: 0.9936 - recall: 0.9926 - val_loss: 0.0249 - val_accuracy: 0.9905 - val_precision: 0.9905 - val_recall: 0.9905 - lr: 1.0000e-03\n",
            "Epoch 19/100\n",
            "30/30 [==============================] - ETA: 0s - loss: 0.0230 - accuracy: 0.9931 - precision: 0.9936 - recall: 0.9926\n",
            "Epoch 19: val_loss improved from 0.02491 to 0.02320, saving model to best_model_densenet.h5\n",
            "30/30 [==============================] - 137s 5s/step - loss: 0.0230 - accuracy: 0.9931 - precision: 0.9936 - recall: 0.9926 - val_loss: 0.0232 - val_accuracy: 0.9905 - val_precision: 0.9905 - val_recall: 0.9905 - lr: 1.0000e-03\n",
            "Epoch 20/100\n",
            "30/30 [==============================] - ETA: 0s - loss: 0.0249 - accuracy: 0.9937 - precision: 0.9937 - recall: 0.9937\n",
            "Epoch 20: val_loss did not improve from 0.02320\n",
            "30/30 [==============================] - 141s 5s/step - loss: 0.0249 - accuracy: 0.9937 - precision: 0.9937 - recall: 0.9937 - val_loss: 0.0257 - val_accuracy: 0.9929 - val_precision: 0.9929 - val_recall: 0.9929 - lr: 1.0000e-03\n",
            "Epoch 21/100\n",
            "30/30 [==============================] - ETA: 0s - loss: 0.0266 - accuracy: 0.9905 - precision: 0.9905 - recall: 0.9905\n",
            "Epoch 21: val_loss did not improve from 0.02320\n",
            "30/30 [==============================] - 139s 5s/step - loss: 0.0266 - accuracy: 0.9905 - precision: 0.9905 - recall: 0.9905 - val_loss: 0.0399 - val_accuracy: 0.9786 - val_precision: 0.9786 - val_recall: 0.9786 - lr: 1.0000e-03\n",
            "Epoch 22/100\n",
            "30/30 [==============================] - ETA: 0s - loss: 0.0228 - accuracy: 0.9910 - precision: 0.9915 - recall: 0.9910\n",
            "Epoch 22: val_loss improved from 0.02320 to 0.02239, saving model to best_model_densenet.h5\n",
            "30/30 [==============================] - 137s 5s/step - loss: 0.0228 - accuracy: 0.9910 - precision: 0.9915 - recall: 0.9910 - val_loss: 0.0224 - val_accuracy: 0.9905 - val_precision: 0.9905 - val_recall: 0.9905 - lr: 1.0000e-03\n",
            "Epoch 23/100\n",
            "30/30 [==============================] - ETA: 0s - loss: 0.0201 - accuracy: 0.9937 - precision: 0.9942 - recall: 0.9937\n",
            "Epoch 23: val_loss did not improve from 0.02239\n",
            "30/30 [==============================] - 138s 5s/step - loss: 0.0201 - accuracy: 0.9937 - precision: 0.9942 - recall: 0.9937 - val_loss: 0.0256 - val_accuracy: 0.9857 - val_precision: 0.9857 - val_recall: 0.9857 - lr: 1.0000e-03\n",
            "Epoch 24/100\n",
            "30/30 [==============================] - ETA: 0s - loss: 0.0172 - accuracy: 0.9937 - precision: 0.9937 - recall: 0.9937\n",
            "Epoch 24: val_loss did not improve from 0.02239\n",
            "30/30 [==============================] - 152s 5s/step - loss: 0.0172 - accuracy: 0.9937 - precision: 0.9937 - recall: 0.9937 - val_loss: 0.0291 - val_accuracy: 0.9881 - val_precision: 0.9881 - val_recall: 0.9857 - lr: 1.0000e-03\n",
            "Epoch 25/100\n",
            "30/30 [==============================] - ETA: 0s - loss: 0.0199 - accuracy: 0.9937 - precision: 0.9937 - recall: 0.9937\n",
            "Epoch 25: ReduceLROnPlateau reducing learning rate to 0.0001999999862164259.\n",
            "\n",
            "Epoch 25: val_loss did not improve from 0.02239\n",
            "30/30 [==============================] - 153s 5s/step - loss: 0.0199 - accuracy: 0.9937 - precision: 0.9937 - recall: 0.9937 - val_loss: 0.0340 - val_accuracy: 0.9857 - val_precision: 0.9857 - val_recall: 0.9857 - lr: 1.0000e-03\n",
            "Epoch 26/100\n",
            "30/30 [==============================] - ETA: 0s - loss: 0.0197 - accuracy: 0.9942 - precision: 0.9952 - recall: 0.9937\n",
            "Epoch 26: val_loss did not improve from 0.02239\n",
            "30/30 [==============================] - 138s 5s/step - loss: 0.0197 - accuracy: 0.9942 - precision: 0.9952 - recall: 0.9937 - val_loss: 0.0261 - val_accuracy: 0.9833 - val_precision: 0.9857 - val_recall: 0.9833 - lr: 2.0000e-04\n",
            "Epoch 27/100\n",
            "30/30 [==============================] - ETA: 0s - loss: 0.0228 - accuracy: 0.9931 - precision: 0.9931 - recall: 0.9931\n",
            "Epoch 27: val_loss improved from 0.02239 to 0.01893, saving model to best_model_densenet.h5\n",
            "30/30 [==============================] - 154s 5s/step - loss: 0.0228 - accuracy: 0.9931 - precision: 0.9931 - recall: 0.9931 - val_loss: 0.0189 - val_accuracy: 0.9881 - val_precision: 0.9881 - val_recall: 0.9881 - lr: 2.0000e-04\n",
            "Epoch 28/100\n",
            "30/30 [==============================] - ETA: 0s - loss: 0.0164 - accuracy: 0.9926 - precision: 0.9931 - recall: 0.9926\n",
            "Epoch 28: val_loss did not improve from 0.01893\n",
            "30/30 [==============================] - 155s 5s/step - loss: 0.0164 - accuracy: 0.9926 - precision: 0.9931 - recall: 0.9926 - val_loss: 0.0208 - val_accuracy: 0.9857 - val_precision: 0.9881 - val_recall: 0.9857 - lr: 2.0000e-04\n",
            "Epoch 29/100\n",
            "30/30 [==============================] - ETA: 0s - loss: 0.0228 - accuracy: 0.9921 - precision: 0.9921 - recall: 0.9915\n",
            "Epoch 29: val_loss improved from 0.01893 to 0.01524, saving model to best_model_densenet.h5\n",
            "30/30 [==============================] - 139s 5s/step - loss: 0.0228 - accuracy: 0.9921 - precision: 0.9921 - recall: 0.9915 - val_loss: 0.0152 - val_accuracy: 0.9952 - val_precision: 0.9952 - val_recall: 0.9952 - lr: 2.0000e-04\n",
            "Epoch 30/100\n",
            "30/30 [==============================] - ETA: 0s - loss: 0.0123 - accuracy: 0.9958 - precision: 0.9958 - recall: 0.9958\n",
            "Epoch 30: val_loss improved from 0.01524 to 0.01338, saving model to best_model_densenet.h5\n",
            "30/30 [==============================] - 152s 5s/step - loss: 0.0123 - accuracy: 0.9958 - precision: 0.9958 - recall: 0.9958 - val_loss: 0.0134 - val_accuracy: 0.9952 - val_precision: 0.9952 - val_recall: 0.9952 - lr: 2.0000e-04\n",
            "Epoch 31/100\n",
            "30/30 [==============================] - ETA: 0s - loss: 0.0168 - accuracy: 0.9952 - precision: 0.9952 - recall: 0.9947\n",
            "Epoch 31: val_loss did not improve from 0.01338\n",
            "30/30 [==============================] - 152s 5s/step - loss: 0.0168 - accuracy: 0.9952 - precision: 0.9952 - recall: 0.9947 - val_loss: 0.0214 - val_accuracy: 0.9881 - val_precision: 0.9881 - val_recall: 0.9881 - lr: 2.0000e-04\n",
            "Epoch 32/100\n",
            "30/30 [==============================] - ETA: 0s - loss: 0.0162 - accuracy: 0.9931 - precision: 0.9931 - recall: 0.9931\n",
            "Epoch 32: val_loss did not improve from 0.01338\n",
            "30/30 [==============================] - 154s 5s/step - loss: 0.0162 - accuracy: 0.9931 - precision: 0.9931 - recall: 0.9931 - val_loss: 0.0302 - val_accuracy: 0.9857 - val_precision: 0.9857 - val_recall: 0.9857 - lr: 2.0000e-04\n",
            "Epoch 33/100\n",
            "30/30 [==============================] - ETA: 0s - loss: 0.0139 - accuracy: 0.9968 - precision: 0.9968 - recall: 0.9958\n",
            "Epoch 33: ReduceLROnPlateau reducing learning rate to 5e-05.\n",
            "\n",
            "Epoch 33: val_loss did not improve from 0.01338\n",
            "30/30 [==============================] - 135s 4s/step - loss: 0.0139 - accuracy: 0.9968 - precision: 0.9968 - recall: 0.9958 - val_loss: 0.0226 - val_accuracy: 0.9833 - val_precision: 0.9833 - val_recall: 0.9833 - lr: 2.0000e-04\n",
            "Epoch 34/100\n",
            "30/30 [==============================] - ETA: 0s - loss: 0.0087 - accuracy: 0.9989 - precision: 0.9989 - recall: 0.9989\n",
            "Epoch 34: val_loss did not improve from 0.01338\n",
            "30/30 [==============================] - 138s 5s/step - loss: 0.0087 - accuracy: 0.9989 - precision: 0.9989 - recall: 0.9989 - val_loss: 0.0197 - val_accuracy: 0.9857 - val_precision: 0.9857 - val_recall: 0.9857 - lr: 5.0000e-05\n",
            "Epoch 35/100\n",
            "30/30 [==============================] - ETA: 0s - loss: 0.0212 - accuracy: 0.9926 - precision: 0.9931 - recall: 0.9926\n",
            "Epoch 35: val_loss did not improve from 0.01338\n",
            "30/30 [==============================] - 153s 5s/step - loss: 0.0212 - accuracy: 0.9926 - precision: 0.9931 - recall: 0.9926 - val_loss: 0.0196 - val_accuracy: 0.9857 - val_precision: 0.9857 - val_recall: 0.9857 - lr: 5.0000e-05\n",
            "Epoch 36/100\n",
            "30/30 [==============================] - ETA: 0s - loss: 0.0159 - accuracy: 0.9958 - precision: 0.9958 - recall: 0.9952\n",
            "Epoch 36: val_loss did not improve from 0.01338\n",
            "30/30 [==============================] - 159s 5s/step - loss: 0.0159 - accuracy: 0.9958 - precision: 0.9958 - recall: 0.9952 - val_loss: 0.0209 - val_accuracy: 0.9857 - val_precision: 0.9881 - val_recall: 0.9857 - lr: 5.0000e-05\n",
            "Epoch 37/100\n",
            "30/30 [==============================] - ETA: 0s - loss: 0.0200 - accuracy: 0.9937 - precision: 0.9936 - recall: 0.9931\n",
            "Epoch 37: val_loss did not improve from 0.01338\n",
            "30/30 [==============================] - 147s 5s/step - loss: 0.0200 - accuracy: 0.9937 - precision: 0.9936 - recall: 0.9931 - val_loss: 0.0206 - val_accuracy: 0.9857 - val_precision: 0.9881 - val_recall: 0.9857 - lr: 5.0000e-05\n",
            "Epoch 38/100\n",
            "30/30 [==============================] - ETA: 0s - loss: 0.0185 - accuracy: 0.9915 - precision: 0.9926 - recall: 0.9915\n",
            "Epoch 38: val_loss did not improve from 0.01338\n",
            "30/30 [==============================] - 159s 5s/step - loss: 0.0185 - accuracy: 0.9915 - precision: 0.9926 - recall: 0.9915 - val_loss: 0.0202 - val_accuracy: 0.9857 - val_precision: 0.9881 - val_recall: 0.9857 - lr: 5.0000e-05\n",
            "Epoch 39/100\n",
            "30/30 [==============================] - ETA: 0s - loss: 0.0139 - accuracy: 0.9937 - precision: 0.9937 - recall: 0.9937\n",
            "Epoch 39: val_loss did not improve from 0.01338\n",
            "30/30 [==============================] - 136s 5s/step - loss: 0.0139 - accuracy: 0.9937 - precision: 0.9937 - recall: 0.9937 - val_loss: 0.0189 - val_accuracy: 0.9857 - val_precision: 0.9881 - val_recall: 0.9857 - lr: 5.0000e-05\n",
            "Epoch 40/100\n",
            "30/30 [==============================] - ETA: 0s - loss: 0.0163 - accuracy: 0.9942 - precision: 0.9947 - recall: 0.9937\n",
            "Epoch 40: val_loss did not improve from 0.01338\n",
            "30/30 [==============================] - 151s 5s/step - loss: 0.0163 - accuracy: 0.9942 - precision: 0.9947 - recall: 0.9937 - val_loss: 0.0216 - val_accuracy: 0.9833 - val_precision: 0.9857 - val_recall: 0.9833 - lr: 5.0000e-05\n",
            "Epoch 41/100\n",
            "30/30 [==============================] - ETA: 0s - loss: 0.0206 - accuracy: 0.9915 - precision: 0.9915 - recall: 0.9910\n",
            "Epoch 41: val_loss did not improve from 0.01338\n",
            "30/30 [==============================] - 157s 5s/step - loss: 0.0206 - accuracy: 0.9915 - precision: 0.9915 - recall: 0.9910 - val_loss: 0.0194 - val_accuracy: 0.9857 - val_precision: 0.9881 - val_recall: 0.9857 - lr: 5.0000e-05\n",
            "Epoch 42/100\n",
            "30/30 [==============================] - ETA: 0s - loss: 0.0283 - accuracy: 0.9899 - precision: 0.9905 - recall: 0.9899\n",
            "Epoch 42: val_loss did not improve from 0.01338\n",
            "30/30 [==============================] - 136s 5s/step - loss: 0.0283 - accuracy: 0.9899 - precision: 0.9905 - recall: 0.9899 - val_loss: 0.0197 - val_accuracy: 0.9857 - val_precision: 0.9857 - val_recall: 0.9857 - lr: 5.0000e-05\n",
            "Epoch 43/100\n",
            "30/30 [==============================] - ETA: 0s - loss: 0.0144 - accuracy: 0.9963 - precision: 0.9963 - recall: 0.9963\n",
            "Epoch 43: val_loss did not improve from 0.01338\n",
            "30/30 [==============================] - 134s 4s/step - loss: 0.0144 - accuracy: 0.9963 - precision: 0.9963 - recall: 0.9963 - val_loss: 0.0181 - val_accuracy: 0.9857 - val_precision: 0.9881 - val_recall: 0.9857 - lr: 5.0000e-05\n",
            "Epoch 44/100\n",
            "30/30 [==============================] - ETA: 0s - loss: 0.0162 - accuracy: 0.9937 - precision: 0.9936 - recall: 0.9931\n",
            "Epoch 44: val_loss did not improve from 0.01338\n",
            "30/30 [==============================] - 155s 5s/step - loss: 0.0162 - accuracy: 0.9937 - precision: 0.9936 - recall: 0.9931 - val_loss: 0.0200 - val_accuracy: 0.9857 - val_precision: 0.9881 - val_recall: 0.9857 - lr: 5.0000e-05\n",
            "Epoch 45/100\n",
            "30/30 [==============================] - ETA: 0s - loss: 0.0112 - accuracy: 0.9958 - precision: 0.9963 - recall: 0.9958\n",
            "Epoch 45: val_loss did not improve from 0.01338\n",
            "30/30 [==============================] - 137s 5s/step - loss: 0.0112 - accuracy: 0.9958 - precision: 0.9963 - recall: 0.9958 - val_loss: 0.0205 - val_accuracy: 0.9857 - val_precision: 0.9857 - val_recall: 0.9857 - lr: 5.0000e-05\n",
            "Epoch 46/100\n",
            "30/30 [==============================] - ETA: 0s - loss: 0.0158 - accuracy: 0.9942 - precision: 0.9947 - recall: 0.9937\n",
            "Epoch 46: val_loss did not improve from 0.01338\n",
            "30/30 [==============================] - 150s 5s/step - loss: 0.0158 - accuracy: 0.9942 - precision: 0.9947 - recall: 0.9937 - val_loss: 0.0212 - val_accuracy: 0.9857 - val_precision: 0.9881 - val_recall: 0.9857 - lr: 5.0000e-05\n",
            "Epoch 47/100\n",
            "30/30 [==============================] - ETA: 0s - loss: 0.0124 - accuracy: 0.9968 - precision: 0.9968 - recall: 0.9968\n",
            "Epoch 47: val_loss did not improve from 0.01338\n",
            "30/30 [==============================] - 136s 5s/step - loss: 0.0124 - accuracy: 0.9968 - precision: 0.9968 - recall: 0.9968 - val_loss: 0.0220 - val_accuracy: 0.9833 - val_precision: 0.9857 - val_recall: 0.9833 - lr: 5.0000e-05\n",
            "Epoch 48/100\n",
            "30/30 [==============================] - ETA: 0s - loss: 0.0140 - accuracy: 0.9942 - precision: 0.9942 - recall: 0.9937\n",
            "Epoch 48: val_loss did not improve from 0.01338\n",
            "30/30 [==============================] - 153s 5s/step - loss: 0.0140 - accuracy: 0.9942 - precision: 0.9942 - recall: 0.9937 - val_loss: 0.0209 - val_accuracy: 0.9857 - val_precision: 0.9881 - val_recall: 0.9857 - lr: 5.0000e-05\n",
            "Epoch 49/100\n",
            "30/30 [==============================] - ETA: 0s - loss: 0.0277 - accuracy: 0.9921 - precision: 0.9921 - recall: 0.9921\n",
            "Epoch 49: val_loss did not improve from 0.01338\n",
            "30/30 [==============================] - 157s 5s/step - loss: 0.0277 - accuracy: 0.9921 - precision: 0.9921 - recall: 0.9921 - val_loss: 0.0198 - val_accuracy: 0.9857 - val_precision: 0.9857 - val_recall: 0.9857 - lr: 5.0000e-05\n",
            "Epoch 50/100\n",
            "30/30 [==============================] - ETA: 0s - loss: 0.0238 - accuracy: 0.9915 - precision: 0.9915 - recall: 0.9915\n",
            "Epoch 50: val_loss did not improve from 0.01338\n",
            "30/30 [==============================] - 138s 5s/step - loss: 0.0238 - accuracy: 0.9915 - precision: 0.9915 - recall: 0.9915 - val_loss: 0.0196 - val_accuracy: 0.9857 - val_precision: 0.9857 - val_recall: 0.9857 - lr: 5.0000e-05\n",
            "Epoch 51/100\n",
            "30/30 [==============================] - ETA: 0s - loss: 0.0141 - accuracy: 0.9958 - precision: 0.9958 - recall: 0.9958\n",
            "Epoch 51: val_loss did not improve from 0.01338\n",
            "30/30 [==============================] - 135s 4s/step - loss: 0.0141 - accuracy: 0.9958 - precision: 0.9958 - recall: 0.9958 - val_loss: 0.0208 - val_accuracy: 0.9857 - val_precision: 0.9857 - val_recall: 0.9857 - lr: 5.0000e-05\n",
            "Epoch 52/100\n",
            "30/30 [==============================] - ETA: 0s - loss: 0.0196 - accuracy: 0.9942 - precision: 0.9942 - recall: 0.9942\n",
            "Epoch 52: val_loss did not improve from 0.01338\n",
            "30/30 [==============================] - 137s 5s/step - loss: 0.0196 - accuracy: 0.9942 - precision: 0.9942 - recall: 0.9942 - val_loss: 0.0218 - val_accuracy: 0.9881 - val_precision: 0.9881 - val_recall: 0.9881 - lr: 5.0000e-05\n",
            "Epoch 53/100\n",
            "30/30 [==============================] - ETA: 0s - loss: 0.0171 - accuracy: 0.9947 - precision: 0.9947 - recall: 0.9937\n",
            "Epoch 53: val_loss did not improve from 0.01338\n",
            "30/30 [==============================] - 155s 5s/step - loss: 0.0171 - accuracy: 0.9947 - precision: 0.9947 - recall: 0.9937 - val_loss: 0.0228 - val_accuracy: 0.9857 - val_precision: 0.9857 - val_recall: 0.9857 - lr: 5.0000e-05\n",
            "Epoch 54/100\n",
            "30/30 [==============================] - ETA: 0s - loss: 0.0126 - accuracy: 0.9952 - precision: 0.9952 - recall: 0.9952\n",
            "Epoch 54: val_loss did not improve from 0.01338\n",
            "30/30 [==============================] - 154s 5s/step - loss: 0.0126 - accuracy: 0.9952 - precision: 0.9952 - recall: 0.9952 - val_loss: 0.0227 - val_accuracy: 0.9833 - val_precision: 0.9833 - val_recall: 0.9833 - lr: 5.0000e-05\n",
            "Epoch 55/100\n",
            "30/30 [==============================] - ETA: 0s - loss: 0.0193 - accuracy: 0.9931 - precision: 0.9931 - recall: 0.9931\n",
            "Epoch 55: val_loss did not improve from 0.01338\n",
            "30/30 [==============================] - 153s 5s/step - loss: 0.0193 - accuracy: 0.9931 - precision: 0.9931 - recall: 0.9931 - val_loss: 0.0255 - val_accuracy: 0.9857 - val_precision: 0.9857 - val_recall: 0.9857 - lr: 5.0000e-05\n",
            "Epoch 56/100\n",
            "30/30 [==============================] - ETA: 0s - loss: 0.0108 - accuracy: 0.9974 - precision: 0.9974 - recall: 0.9968\n",
            "Epoch 56: val_loss did not improve from 0.01338\n",
            "30/30 [==============================] - 152s 5s/step - loss: 0.0108 - accuracy: 0.9974 - precision: 0.9974 - recall: 0.9968 - val_loss: 0.0262 - val_accuracy: 0.9857 - val_precision: 0.9857 - val_recall: 0.9857 - lr: 5.0000e-05\n",
            "Epoch 57/100\n",
            "30/30 [==============================] - ETA: 0s - loss: 0.0092 - accuracy: 0.9984 - precision: 0.9984 - recall: 0.9979\n",
            "Epoch 57: val_loss did not improve from 0.01338\n",
            "30/30 [==============================] - 138s 5s/step - loss: 0.0092 - accuracy: 0.9984 - precision: 0.9984 - recall: 0.9979 - val_loss: 0.0244 - val_accuracy: 0.9857 - val_precision: 0.9857 - val_recall: 0.9857 - lr: 5.0000e-05\n",
            "Epoch 58/100\n",
            "30/30 [==============================] - ETA: 0s - loss: 0.0155 - accuracy: 0.9942 - precision: 0.9942 - recall: 0.9942\n",
            "Epoch 58: val_loss did not improve from 0.01338\n",
            "30/30 [==============================] - 134s 4s/step - loss: 0.0155 - accuracy: 0.9942 - precision: 0.9942 - recall: 0.9942 - val_loss: 0.0230 - val_accuracy: 0.9857 - val_precision: 0.9881 - val_recall: 0.9857 - lr: 5.0000e-05\n",
            "Epoch 59/100\n",
            "30/30 [==============================] - ETA: 0s - loss: 0.0188 - accuracy: 0.9926 - precision: 0.9936 - recall: 0.9926\n",
            "Epoch 59: val_loss did not improve from 0.01338\n",
            "30/30 [==============================] - 155s 5s/step - loss: 0.0188 - accuracy: 0.9926 - precision: 0.9936 - recall: 0.9926 - val_loss: 0.0216 - val_accuracy: 0.9857 - val_precision: 0.9881 - val_recall: 0.9857 - lr: 5.0000e-05\n",
            "Epoch 60/100\n",
            "30/30 [==============================] - ETA: 0s - loss: 0.0161 - accuracy: 0.9942 - precision: 0.9942 - recall: 0.9942\n",
            "Epoch 60: val_loss did not improve from 0.01338\n",
            "30/30 [==============================] - 155s 5s/step - loss: 0.0161 - accuracy: 0.9942 - precision: 0.9942 - recall: 0.9942 - val_loss: 0.0200 - val_accuracy: 0.9857 - val_precision: 0.9857 - val_recall: 0.9857 - lr: 5.0000e-05\n",
            "Epoch 61/100\n",
            "30/30 [==============================] - ETA: 0s - loss: 0.0094 - accuracy: 0.9979 - precision: 0.9979 - recall: 0.9979\n",
            "Epoch 61: val_loss did not improve from 0.01338\n",
            "30/30 [==============================] - 136s 5s/step - loss: 0.0094 - accuracy: 0.9979 - precision: 0.9979 - recall: 0.9979 - val_loss: 0.0219 - val_accuracy: 0.9833 - val_precision: 0.9833 - val_recall: 0.9833 - lr: 5.0000e-05\n",
            "Epoch 62/100\n",
            "30/30 [==============================] - ETA: 0s - loss: 0.0102 - accuracy: 0.9974 - precision: 0.9974 - recall: 0.9974\n",
            "Epoch 62: val_loss did not improve from 0.01338\n",
            "30/30 [==============================] - 158s 5s/step - loss: 0.0102 - accuracy: 0.9974 - precision: 0.9974 - recall: 0.9974 - val_loss: 0.0225 - val_accuracy: 0.9833 - val_precision: 0.9833 - val_recall: 0.9833 - lr: 5.0000e-05\n",
            "Epoch 63/100\n",
            "30/30 [==============================] - ETA: 0s - loss: 0.0138 - accuracy: 0.9963 - precision: 0.9963 - recall: 0.9963\n",
            "Epoch 63: val_loss did not improve from 0.01338\n",
            "30/30 [==============================] - 154s 5s/step - loss: 0.0138 - accuracy: 0.9963 - precision: 0.9963 - recall: 0.9963 - val_loss: 0.0232 - val_accuracy: 0.9833 - val_precision: 0.9833 - val_recall: 0.9833 - lr: 5.0000e-05\n",
            "Epoch 64/100\n",
            "30/30 [==============================] - ETA: 0s - loss: 0.0166 - accuracy: 0.9937 - precision: 0.9942 - recall: 0.9937\n",
            "Epoch 64: val_loss did not improve from 0.01338\n",
            "30/30 [==============================] - 139s 5s/step - loss: 0.0166 - accuracy: 0.9937 - precision: 0.9942 - recall: 0.9937 - val_loss: 0.0240 - val_accuracy: 0.9833 - val_precision: 0.9833 - val_recall: 0.9833 - lr: 5.0000e-05\n",
            "Epoch 65/100\n",
            "30/30 [==============================] - ETA: 0s - loss: 0.0101 - accuracy: 0.9968 - precision: 0.9968 - recall: 0.9968\n",
            "Epoch 65: val_loss did not improve from 0.01338\n",
            "30/30 [==============================] - 157s 5s/step - loss: 0.0101 - accuracy: 0.9968 - precision: 0.9968 - recall: 0.9968 - val_loss: 0.0217 - val_accuracy: 0.9857 - val_precision: 0.9857 - val_recall: 0.9857 - lr: 5.0000e-05\n",
            "Epoch 66/100\n",
            "30/30 [==============================] - ETA: 0s - loss: 0.0171 - accuracy: 0.9947 - precision: 0.9947 - recall: 0.9937\n",
            "Epoch 66: val_loss did not improve from 0.01338\n",
            "30/30 [==============================] - 136s 4s/step - loss: 0.0171 - accuracy: 0.9947 - precision: 0.9947 - recall: 0.9937 - val_loss: 0.0214 - val_accuracy: 0.9857 - val_precision: 0.9881 - val_recall: 0.9857 - lr: 5.0000e-05\n",
            "Epoch 67/100\n",
            "30/30 [==============================] - ETA: 0s - loss: 0.0120 - accuracy: 0.9963 - precision: 0.9963 - recall: 0.9963\n",
            "Epoch 67: val_loss did not improve from 0.01338\n",
            "30/30 [==============================] - 157s 5s/step - loss: 0.0120 - accuracy: 0.9963 - precision: 0.9963 - recall: 0.9963 - val_loss: 0.0230 - val_accuracy: 0.9833 - val_precision: 0.9857 - val_recall: 0.9833 - lr: 5.0000e-05\n",
            "Epoch 68/100\n",
            "30/30 [==============================] - ETA: 0s - loss: 0.0135 - accuracy: 0.9942 - precision: 0.9942 - recall: 0.9942\n",
            "Epoch 68: val_loss did not improve from 0.01338\n",
            "30/30 [==============================] - 155s 5s/step - loss: 0.0135 - accuracy: 0.9942 - precision: 0.9942 - recall: 0.9942 - val_loss: 0.0225 - val_accuracy: 0.9833 - val_precision: 0.9857 - val_recall: 0.9833 - lr: 5.0000e-05\n",
            "Epoch 69/100\n",
            "30/30 [==============================] - ETA: 0s - loss: 0.0171 - accuracy: 0.9926 - precision: 0.9926 - recall: 0.9921\n",
            "Epoch 69: val_loss did not improve from 0.01338\n",
            "30/30 [==============================] - 154s 5s/step - loss: 0.0171 - accuracy: 0.9926 - precision: 0.9926 - recall: 0.9921 - val_loss: 0.0214 - val_accuracy: 0.9833 - val_precision: 0.9857 - val_recall: 0.9833 - lr: 5.0000e-05\n",
            "Epoch 70/100\n",
            "30/30 [==============================] - ETA: 0s - loss: 0.0114 - accuracy: 0.9958 - precision: 0.9963 - recall: 0.9958\n",
            "Epoch 70: val_loss did not improve from 0.01338\n",
            "30/30 [==============================] - 138s 5s/step - loss: 0.0114 - accuracy: 0.9958 - precision: 0.9963 - recall: 0.9958 - val_loss: 0.0225 - val_accuracy: 0.9857 - val_precision: 0.9857 - val_recall: 0.9857 - lr: 5.0000e-05\n",
            "Epoch 71/100\n",
            "30/30 [==============================] - ETA: 0s - loss: 0.0120 - accuracy: 0.9958 - precision: 0.9958 - recall: 0.9958\n",
            "Epoch 71: val_loss did not improve from 0.01338\n",
            "30/30 [==============================] - 153s 5s/step - loss: 0.0120 - accuracy: 0.9958 - precision: 0.9958 - recall: 0.9958 - val_loss: 0.0208 - val_accuracy: 0.9857 - val_precision: 0.9857 - val_recall: 0.9857 - lr: 5.0000e-05\n",
            "Epoch 72/100\n",
            "30/30 [==============================] - ETA: 0s - loss: 0.0137 - accuracy: 0.9963 - precision: 0.9963 - recall: 0.9963\n",
            "Epoch 72: val_loss did not improve from 0.01338\n",
            "30/30 [==============================] - 155s 5s/step - loss: 0.0137 - accuracy: 0.9963 - precision: 0.9963 - recall: 0.9963 - val_loss: 0.0202 - val_accuracy: 0.9857 - val_precision: 0.9857 - val_recall: 0.9857 - lr: 5.0000e-05\n",
            "Epoch 73/100\n",
            "30/30 [==============================] - ETA: 0s - loss: 0.0152 - accuracy: 0.9947 - precision: 0.9952 - recall: 0.9947\n",
            "Epoch 73: val_loss did not improve from 0.01338\n",
            "30/30 [==============================] - 153s 5s/step - loss: 0.0152 - accuracy: 0.9947 - precision: 0.9952 - recall: 0.9947 - val_loss: 0.0214 - val_accuracy: 0.9857 - val_precision: 0.9881 - val_recall: 0.9857 - lr: 5.0000e-05\n",
            "Epoch 74/100\n",
            "30/30 [==============================] - ETA: 0s - loss: 0.0145 - accuracy: 0.9937 - precision: 0.9937 - recall: 0.9937\n",
            "Epoch 74: val_loss did not improve from 0.01338\n",
            "30/30 [==============================] - 156s 5s/step - loss: 0.0145 - accuracy: 0.9937 - precision: 0.9937 - recall: 0.9937 - val_loss: 0.0185 - val_accuracy: 0.9881 - val_precision: 0.9881 - val_recall: 0.9857 - lr: 5.0000e-05\n",
            "Epoch 75/100\n",
            "30/30 [==============================] - ETA: 0s - loss: 0.0117 - accuracy: 0.9952 - precision: 0.9958 - recall: 0.9952\n",
            "Epoch 75: val_loss did not improve from 0.01338\n",
            "30/30 [==============================] - 156s 5s/step - loss: 0.0117 - accuracy: 0.9952 - precision: 0.9958 - recall: 0.9952 - val_loss: 0.0180 - val_accuracy: 0.9881 - val_precision: 0.9881 - val_recall: 0.9857 - lr: 5.0000e-05\n",
            "Epoch 76/100\n",
            "30/30 [==============================] - ETA: 0s - loss: 0.0148 - accuracy: 0.9958 - precision: 0.9958 - recall: 0.9958\n",
            "Epoch 76: val_loss did not improve from 0.01338\n",
            "30/30 [==============================] - 136s 5s/step - loss: 0.0148 - accuracy: 0.9958 - precision: 0.9958 - recall: 0.9958 - val_loss: 0.0175 - val_accuracy: 0.9857 - val_precision: 0.9881 - val_recall: 0.9857 - lr: 5.0000e-05\n",
            "Epoch 77/100\n",
            "30/30 [==============================] - ETA: 0s - loss: 0.0118 - accuracy: 0.9963 - precision: 0.9963 - recall: 0.9963\n",
            "Epoch 77: val_loss did not improve from 0.01338\n",
            "30/30 [==============================] - 135s 4s/step - loss: 0.0118 - accuracy: 0.9963 - precision: 0.9963 - recall: 0.9963 - val_loss: 0.0185 - val_accuracy: 0.9857 - val_precision: 0.9881 - val_recall: 0.9857 - lr: 5.0000e-05\n",
            "Epoch 78/100\n",
            "30/30 [==============================] - ETA: 0s - loss: 0.0100 - accuracy: 0.9979 - precision: 0.9979 - recall: 0.9979\n",
            "Epoch 78: val_loss did not improve from 0.01338\n",
            "30/30 [==============================] - 154s 5s/step - loss: 0.0100 - accuracy: 0.9979 - precision: 0.9979 - recall: 0.9979 - val_loss: 0.0172 - val_accuracy: 0.9857 - val_precision: 0.9881 - val_recall: 0.9857 - lr: 5.0000e-05\n",
            "Epoch 79/100\n",
            "30/30 [==============================] - ETA: 0s - loss: 0.0132 - accuracy: 0.9947 - precision: 0.9947 - recall: 0.9947\n",
            "Epoch 79: val_loss did not improve from 0.01338\n",
            "30/30 [==============================] - 152s 5s/step - loss: 0.0132 - accuracy: 0.9947 - precision: 0.9947 - recall: 0.9947 - val_loss: 0.0195 - val_accuracy: 0.9881 - val_precision: 0.9905 - val_recall: 0.9881 - lr: 5.0000e-05\n",
            "Epoch 80/100\n",
            "30/30 [==============================] - ETA: 0s - loss: 0.0099 - accuracy: 0.9974 - precision: 0.9974 - recall: 0.9974\n",
            "Epoch 80: val_loss did not improve from 0.01338\n",
            "30/30 [==============================] - 157s 5s/step - loss: 0.0099 - accuracy: 0.9974 - precision: 0.9974 - recall: 0.9974 - val_loss: 0.0211 - val_accuracy: 0.9881 - val_precision: 0.9905 - val_recall: 0.9881 - lr: 5.0000e-05\n",
            "Epoch 81/100\n",
            "30/30 [==============================] - ETA: 0s - loss: 0.0111 - accuracy: 0.9958 - precision: 0.9958 - recall: 0.9958\n",
            "Epoch 81: val_loss did not improve from 0.01338\n",
            "30/30 [==============================] - 137s 5s/step - loss: 0.0111 - accuracy: 0.9958 - precision: 0.9958 - recall: 0.9958 - val_loss: 0.0214 - val_accuracy: 0.9857 - val_precision: 0.9881 - val_recall: 0.9857 - lr: 5.0000e-05\n",
            "Epoch 82/100\n",
            "30/30 [==============================] - ETA: 0s - loss: 0.0107 - accuracy: 0.9958 - precision: 0.9958 - recall: 0.9958\n",
            "Epoch 82: val_loss did not improve from 0.01338\n",
            "30/30 [==============================] - 153s 5s/step - loss: 0.0107 - accuracy: 0.9958 - precision: 0.9958 - recall: 0.9958 - val_loss: 0.0187 - val_accuracy: 0.9881 - val_precision: 0.9905 - val_recall: 0.9881 - lr: 5.0000e-05\n",
            "Epoch 83/100\n",
            "30/30 [==============================] - ETA: 0s - loss: 0.0118 - accuracy: 0.9958 - precision: 0.9958 - recall: 0.9958\n",
            "Epoch 83: val_loss did not improve from 0.01338\n",
            "30/30 [==============================] - 153s 5s/step - loss: 0.0118 - accuracy: 0.9958 - precision: 0.9958 - recall: 0.9958 - val_loss: 0.0183 - val_accuracy: 0.9857 - val_precision: 0.9881 - val_recall: 0.9857 - lr: 5.0000e-05\n",
            "Epoch 84/100\n",
            "30/30 [==============================] - ETA: 0s - loss: 0.0117 - accuracy: 0.9968 - precision: 0.9979 - recall: 0.9963\n",
            "Epoch 84: val_loss did not improve from 0.01338\n",
            "30/30 [==============================] - 154s 5s/step - loss: 0.0117 - accuracy: 0.9968 - precision: 0.9979 - recall: 0.9963 - val_loss: 0.0165 - val_accuracy: 0.9857 - val_precision: 0.9881 - val_recall: 0.9857 - lr: 5.0000e-05\n",
            "Epoch 85/100\n",
            "30/30 [==============================] - ETA: 0s - loss: 0.0167 - accuracy: 0.9931 - precision: 0.9931 - recall: 0.9931\n",
            "Epoch 85: val_loss did not improve from 0.01338\n",
            "30/30 [==============================] - 152s 5s/step - loss: 0.0167 - accuracy: 0.9931 - precision: 0.9931 - recall: 0.9931 - val_loss: 0.0172 - val_accuracy: 0.9881 - val_precision: 0.9905 - val_recall: 0.9881 - lr: 5.0000e-05\n",
            "Epoch 86/100\n",
            "30/30 [==============================] - ETA: 0s - loss: 0.0122 - accuracy: 0.9958 - precision: 0.9958 - recall: 0.9958\n",
            "Epoch 86: val_loss did not improve from 0.01338\n",
            "30/30 [==============================] - 152s 5s/step - loss: 0.0122 - accuracy: 0.9958 - precision: 0.9958 - recall: 0.9958 - val_loss: 0.0170 - val_accuracy: 0.9857 - val_precision: 0.9857 - val_recall: 0.9857 - lr: 5.0000e-05\n",
            "Epoch 87/100\n",
            "30/30 [==============================] - ETA: 0s - loss: 0.0137 - accuracy: 0.9952 - precision: 0.9952 - recall: 0.9952\n",
            "Epoch 87: val_loss did not improve from 0.01338\n",
            "30/30 [==============================] - 158s 5s/step - loss: 0.0137 - accuracy: 0.9952 - precision: 0.9952 - recall: 0.9952 - val_loss: 0.0184 - val_accuracy: 0.9857 - val_precision: 0.9881 - val_recall: 0.9857 - lr: 5.0000e-05\n",
            "Epoch 88/100\n",
            "30/30 [==============================] - ETA: 0s - loss: 0.0099 - accuracy: 0.9963 - precision: 0.9963 - recall: 0.9963\n",
            "Epoch 88: val_loss did not improve from 0.01338\n",
            "30/30 [==============================] - 153s 5s/step - loss: 0.0099 - accuracy: 0.9963 - precision: 0.9963 - recall: 0.9963 - val_loss: 0.0211 - val_accuracy: 0.9857 - val_precision: 0.9881 - val_recall: 0.9857 - lr: 5.0000e-05\n",
            "Epoch 89/100\n",
            "30/30 [==============================] - ETA: 0s - loss: 0.0111 - accuracy: 0.9968 - precision: 0.9974 - recall: 0.9968\n",
            "Epoch 89: val_loss did not improve from 0.01338\n",
            "30/30 [==============================] - 154s 5s/step - loss: 0.0111 - accuracy: 0.9968 - precision: 0.9974 - recall: 0.9968 - val_loss: 0.0196 - val_accuracy: 0.9857 - val_precision: 0.9881 - val_recall: 0.9857 - lr: 5.0000e-05\n",
            "Epoch 90/100\n",
            "30/30 [==============================] - ETA: 0s - loss: 0.0129 - accuracy: 0.9958 - precision: 0.9958 - recall: 0.9958\n",
            "Epoch 90: val_loss did not improve from 0.01338\n",
            "30/30 [==============================] - 137s 5s/step - loss: 0.0129 - accuracy: 0.9958 - precision: 0.9958 - recall: 0.9958 - val_loss: 0.0213 - val_accuracy: 0.9833 - val_precision: 0.9833 - val_recall: 0.9833 - lr: 5.0000e-05\n",
            "Epoch 91/100\n",
            "30/30 [==============================] - ETA: 0s - loss: 0.0124 - accuracy: 0.9952 - precision: 0.9958 - recall: 0.9952\n",
            "Epoch 91: val_loss did not improve from 0.01338\n",
            "30/30 [==============================] - 141s 5s/step - loss: 0.0124 - accuracy: 0.9952 - precision: 0.9958 - recall: 0.9952 - val_loss: 0.0182 - val_accuracy: 0.9881 - val_precision: 0.9905 - val_recall: 0.9881 - lr: 5.0000e-05\n",
            "Epoch 92/100\n",
            "30/30 [==============================] - ETA: 0s - loss: 0.0120 - accuracy: 0.9963 - precision: 0.9963 - recall: 0.9963\n",
            "Epoch 92: val_loss did not improve from 0.01338\n",
            "30/30 [==============================] - 151s 5s/step - loss: 0.0120 - accuracy: 0.9963 - precision: 0.9963 - recall: 0.9963 - val_loss: 0.0199 - val_accuracy: 0.9857 - val_precision: 0.9881 - val_recall: 0.9857 - lr: 5.0000e-05\n",
            "Epoch 93/100\n",
            "30/30 [==============================] - ETA: 0s - loss: 0.0155 - accuracy: 0.9958 - precision: 0.9958 - recall: 0.9952\n",
            "Epoch 93: val_loss did not improve from 0.01338\n",
            "30/30 [==============================] - 154s 5s/step - loss: 0.0155 - accuracy: 0.9958 - precision: 0.9958 - recall: 0.9952 - val_loss: 0.0211 - val_accuracy: 0.9857 - val_precision: 0.9881 - val_recall: 0.9857 - lr: 5.0000e-05\n",
            "Epoch 94/100\n",
            "30/30 [==============================] - ETA: 0s - loss: 0.0128 - accuracy: 0.9963 - precision: 0.9963 - recall: 0.9958\n",
            "Epoch 94: val_loss did not improve from 0.01338\n",
            "30/30 [==============================] - 158s 5s/step - loss: 0.0128 - accuracy: 0.9963 - precision: 0.9963 - recall: 0.9958 - val_loss: 0.0254 - val_accuracy: 0.9857 - val_precision: 0.9881 - val_recall: 0.9857 - lr: 5.0000e-05\n",
            "Epoch 95/100\n",
            "30/30 [==============================] - ETA: 0s - loss: 0.0142 - accuracy: 0.9942 - precision: 0.9947 - recall: 0.9942\n",
            "Epoch 95: val_loss did not improve from 0.01338\n",
            "30/30 [==============================] - 139s 5s/step - loss: 0.0142 - accuracy: 0.9942 - precision: 0.9947 - recall: 0.9942 - val_loss: 0.0254 - val_accuracy: 0.9857 - val_precision: 0.9857 - val_recall: 0.9857 - lr: 5.0000e-05\n",
            "Epoch 96/100\n",
            "30/30 [==============================] - ETA: 0s - loss: 0.0118 - accuracy: 0.9968 - precision: 0.9968 - recall: 0.9968\n",
            "Epoch 96: val_loss did not improve from 0.01338\n",
            "30/30 [==============================] - 153s 5s/step - loss: 0.0118 - accuracy: 0.9968 - precision: 0.9968 - recall: 0.9968 - val_loss: 0.0181 - val_accuracy: 0.9857 - val_precision: 0.9857 - val_recall: 0.9857 - lr: 5.0000e-05\n",
            "Epoch 97/100\n",
            "30/30 [==============================] - ETA: 0s - loss: 0.0192 - accuracy: 0.9931 - precision: 0.9931 - recall: 0.9926\n",
            "Epoch 97: val_loss did not improve from 0.01338\n",
            "30/30 [==============================] - 155s 5s/step - loss: 0.0192 - accuracy: 0.9931 - precision: 0.9931 - recall: 0.9926 - val_loss: 0.0160 - val_accuracy: 0.9952 - val_precision: 0.9952 - val_recall: 0.9952 - lr: 5.0000e-05\n",
            "Epoch 98/100\n",
            "30/30 [==============================] - ETA: 0s - loss: 0.0099 - accuracy: 0.9963 - precision: 0.9963 - recall: 0.9963\n",
            "Epoch 98: val_loss did not improve from 0.01338\n",
            "30/30 [==============================] - 152s 5s/step - loss: 0.0099 - accuracy: 0.9963 - precision: 0.9963 - recall: 0.9963 - val_loss: 0.0163 - val_accuracy: 0.9929 - val_precision: 0.9929 - val_recall: 0.9929 - lr: 5.0000e-05\n",
            "Epoch 99/100\n",
            "30/30 [==============================] - ETA: 0s - loss: 0.0121 - accuracy: 0.9963 - precision: 0.9963 - recall: 0.9958\n",
            "Epoch 99: val_loss did not improve from 0.01338\n",
            "30/30 [==============================] - 155s 5s/step - loss: 0.0121 - accuracy: 0.9963 - precision: 0.9963 - recall: 0.9958 - val_loss: 0.0172 - val_accuracy: 0.9857 - val_precision: 0.9857 - val_recall: 0.9857 - lr: 5.0000e-05\n",
            "Epoch 100/100\n",
            "30/30 [==============================] - ETA: 0s - loss: 0.0199 - accuracy: 0.9915 - precision: 0.9921 - recall: 0.9915\n",
            "Epoch 100: val_loss did not improve from 0.01338\n",
            "30/30 [==============================] - 135s 5s/step - loss: 0.0199 - accuracy: 0.9915 - precision: 0.9921 - recall: 0.9915 - val_loss: 0.0173 - val_accuracy: 0.9881 - val_precision: 0.9881 - val_recall: 0.9857 - lr: 5.0000e-05\n"
          ]
        }
      ],
      "source": [
        "# Modeli eğitme\n",
        "history = model.fit(\n",
        "train_generator,\n",
        "epochs=100,\n",
        "validation_data=validation_generator,\n",
        "batch_size=64,\n",
        "callbacks=[reduce_lr, checkpoint],\n",
        "shuffle=True\n",
        ")"
      ]
    },
    {
      "cell_type": "code",
      "execution_count": null,
      "metadata": {
        "id": "ZH9_Xna_4EQm"
      },
      "outputs": [],
      "source": [
        "#model kaydetme\n",
        "model.save_weights('best_model_resnet_50_new_data.h5')\n",
        "\n",
        "#model yukleme\n",
        "model.load_weights(\"best_model_resnet_50_new_data.h5\")"
      ]
    },
    {
      "cell_type": "code",
      "execution_count": null,
      "metadata": {
        "colab": {
          "base_uri": "https://localhost:8080/"
        },
        "id": "dqkroI1nIzbf",
        "outputId": "12501109-2b6f-45be-b06a-309aeec8f420"
      },
      "outputs": [
        {
          "name": "stdout",
          "output_type": "stream",
          "text": [
            "7/7 [==============================] - 142s 23s/step - loss: 0.0167 - accuracy: 0.9926 - precision: 0.9926 - recall: 0.9901\n",
            "Test veri seti üzerinde modelin performansı: Loss=0.01668918877840042, Accuracy=0.9926108121871948, Precision=0.9925925731658936, Recall=0.9901477694511414\n"
          ]
        }
      ],
      "source": [
        "# Model performansini degerlendirme\n",
        "evaluation = model.evaluate((test_generator), steps=len(test_generator))\n",
        "print(\"Test veri seti üzerinde modelin performansı: Loss={}, Accuracy={}, Precision={}, Recall={}\".format(evaluation[0], evaluation[1], evaluation[2], evaluation[3]))"
      ]
    },
    {
      "cell_type": "code",
      "execution_count": null,
      "metadata": {
        "colab": {
          "base_uri": "https://localhost:8080/",
          "height": 489
        },
        "id": "PLVfy6rybZLt",
        "outputId": "847b6bfd-9be3-443e-89a1-1478f72ef1fd"
      },
      "outputs": [
        {
          "name": "stdout",
          "output_type": "stream",
          "text": [
            "dict_keys(['loss', 'accuracy', 'precision', 'recall', 'val_loss', 'val_accuracy', 'val_precision', 'val_recall', 'lr'])\n"
          ]
        },
        {
          "data": {
            "image/png": "[encoded data removed]",
            "text/plain": [
              "<Figure size 640x480 with 1 Axes>"
            ]
          },
          "metadata": {},
          "output_type": "display_data"
        }
      ],
      "source": [
        "#gorsellestirme\n",
        "import matplotlib.pyplot as plt\n",
        "\n",
        "print(history.history.keys())\n",
        "plt.title(\"Loss Rate in DenseNet121\")\n",
        "plt.plot(history.history[\"loss\"], label = \"Train Loss\")\n",
        "plt.plot(history.history[\"val_loss\"], label = \"Validation Loss\")\n",
        "#loss ve accuracy Train uzerinde, val_loss ve val_accuracy Test uzerindeki sonuclar\n",
        "plt.legend()\n",
        "plt.show()"
      ]
    },
    {
      "cell_type": "code",
      "execution_count": null,
      "metadata": {
        "colab": {
          "base_uri": "https://localhost:8080/",
          "height": 452
        },
        "id": "bkSwAzhdbcm1",
        "outputId": "bc33f184-d38a-4e27-a5f8-4279f4336f18"
      },
      "outputs": [
        {
          "data": {
            "image/png": "[encoded data removed]",
            "text/plain": [
              "<Figure size 640x480 with 1 Axes>"
            ]
          },
          "metadata": {},
          "output_type": "display_data"
        }
      ],
      "source": [
        "plt.figure()\n",
        "plt.title(\"Accuracy Rate in DenseNet121\")\n",
        "plt.plot(history.history[\"accuracy\"], label = \"Train Accuracy\")\n",
        "plt.plot(history.history[\"val_accuracy\"], label = \"Validation Accuracy\")\n",
        "plt.legend()\n",
        "plt.show()"
      ]
    },
    {
      "cell_type": "code",
      "execution_count": null,
      "metadata": {
        "colab": {
          "base_uri": "https://localhost:8080/",
          "height": 452
        },
        "id": "hf0OzAZgbffX",
        "outputId": "e9d60e81-bddf-4744-cf03-321d4a83de47"
      },
      "outputs": [
        {
          "data": {
            "image/png": "[encoded data removed]",
            "text/plain": [
              "<Figure size 640x480 with 1 Axes>"
            ]
          },
          "metadata": {},
          "output_type": "display_data"
        }
      ],
      "source": [
        "plt.figure()\n",
        "plt.title(\"Recall Rate in DenseNet121\")\n",
        "plt.plot(history.history[\"recall\"], label = \"Train Accuracy\")\n",
        "plt.plot(history.history[\"val_recall\"], label = \"Validation Accuracy\")\n",
        "plt.legend()\n",
        "plt.show()"
      ]
    },
    {
      "cell_type": "code",
      "execution_count": null,
      "metadata": {
        "colab": {
          "base_uri": "https://localhost:8080/",
          "height": 452
        },
        "id": "RLkmcgAebg19",
        "outputId": "c2c6f7a9-68a3-4633-818b-538ec6bca822"
      },
      "outputs": [
        {
          "data": {
            "image/png": "[encoded data removed]",
            "text/plain": [
              "<Figure size 640x480 with 1 Axes>"
            ]
          },
          "metadata": {},
          "output_type": "display_data"
        }
      ],
      "source": [
        "plt.figure()\n",
        "plt.title(\"Precision Rate in DenseNet121\")\n",
        "plt.plot(history.history[\"precision\"], label = \"Train Accuracy\")\n",
        "plt.plot(history.history[\"val_precision\"], label = \"Validation Accuracy\")\n",
        "plt.legend()\n",
        "plt.show()\n"
      ]
    },
    {
      "cell_type": "code",
      "execution_count": null,
      "metadata": {
        "colab": {
          "base_uri": "https://localhost:8080/"
        },
        "id": "BwBUXcNpkCq2",
        "outputId": "f3942ef1-58ff-4261-9109-fade8991f07a"
      },
      "outputs": [
        {
          "name": "stdout",
          "output_type": "stream",
          "text": [
            "7/7 [==============================] - 27s 3s/step - loss: 0.0167 - accuracy: 0.9926 - precision: 0.9926 - recall: 0.9901\n",
            "Test veri seti üzerinde modelin performansı: Loss=0.01668919064104557, Accuracy=0.9926108121871948, Precision=0.9925925731658936, Recall=0.9901477694511414\n"
          ]
        }
      ],
      "source": [
        "# Model performansini degerlendirme\n",
        "evaluation = model.evaluate((test_generator), steps=len(test_generator))\n",
        "print(\"Test veri seti üzerinde modelin performansı: Loss={}, Accuracy={}, Precision={}, Recall={}\".format(evaluation[0], evaluation[1], evaluation[2], evaluation[3]))\n",
        "\n",
        "\n",
        "\n"
      ]
    },
    {
      "cell_type": "code",
      "execution_count": null,
      "metadata": {
        "colab": {
          "base_uri": "https://localhost:8080/"
        },
        "id": "KixRlCqEkbHn",
        "outputId": "83e56a0f-b33c-4852-8330-032e5fae1b2e"
      },
      "outputs": [
        {
          "name": "stdout",
          "output_type": "stream",
          "text": [
            "1/1 [==============================] - 3s 3s/step\n",
            "Tahmin edilen sınıf: girilmez\n"
          ]
        }
      ],
      "source": [
        "#tahmin etme\n",
        "import numpy as np\n",
        "from keras.models import load_model\n",
        "from tensorflow.keras.preprocessing import image\n",
        "\n",
        "class_labels = [\n",
        "    \"azami_hiz_60\",\n",
        "    \"azami_hiz_70\",\n",
        "    \"azami_hiz_80\",\n",
        "    \"bisiklet_gecebilir\",\n",
        "    \"bisiklet_yolu\",\n",
        "    \"duraklamak_ve_park_etmek_yasak\",\n",
        "    \"girilmez\",\n",
        "    \"motorlu_tasit_yolu_baslangici\",\n",
        "    \"motorlu_tasit_yolu_sonu\",\n",
        "    \"okul_gecidi\",\n",
        "    \"saga_donus\",\n",
        "    \"saga_donus_yasak\",\n",
        "    \"sesli_ikaz_cihazi_kullanimi_yasak\",\n",
        "    \"u_donusu_yapilir\"\n",
        "]\n",
        "\n",
        "#onceden egitilen modeli yukleme\n",
        "model = load_model('best_model_densenet.h5')\n",
        "\n",
        "#goruntuyu okuma ve veri on isleme yapma\n",
        "img_path = r\"/content/N.png\"  # Test resminin yolu\n",
        "img = image.load_img(img_path, target_size=(128, 128))\n",
        "x = image.img_to_array(img)\n",
        "x = np.expand_dims(x, axis=0)\n",
        "x = x / 255.0\n",
        "\n",
        "# Tahmin yapma\n",
        "predictions = model.predict(x)#tahminde bulunma\n",
        "predicted_class_index = np.argmax(predictions)\n",
        "predicted_class = class_labels[predicted_class_index]\n",
        "\n",
        "print(\"Tahmin edilen sınıf:\", predicted_class)"
      ]
    }
  ],
  "metadata": {
    "colab": {
      "provenance": []
    },
    "kernelspec": {
      "display_name": "Python 3",
      "name": "python3"
    },
    "language_info": {
      "name": "python"
    }
  },
  "nbformat": 4,
  "nbformat_minor": 0
}
